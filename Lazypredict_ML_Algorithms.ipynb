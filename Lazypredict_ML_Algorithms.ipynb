{
  "nbformat": 4,
  "nbformat_minor": 0,
  "metadata": {
    "colab": {
      "provenance": []
    },
    "kernelspec": {
      "name": "python3",
      "display_name": "Python 3"
    },
    "language_info": {
      "name": "python"
    }
  },
  "cells": [
    {
      "cell_type": "code",
      "execution_count": 148,
      "metadata": {
        "colab": {
          "base_uri": "https://localhost:8080/"
        },
        "id": "qYhdAEfuQgGK",
        "outputId": "93003228-2477-4bb7-e454-e9f47aebf4d3"
      },
      "outputs": [
        {
          "output_type": "stream",
          "name": "stdout",
          "text": [
            "Looking in indexes: https://pypi.org/simple, https://us-python.pkg.dev/colab-wheels/public/simple/\n",
            "Requirement already satisfied: lazypredict in /usr/local/lib/python3.8/dist-packages (0.2.12)\n",
            "Requirement already satisfied: click in /usr/local/lib/python3.8/dist-packages (from lazypredict) (7.1.2)\n",
            "Requirement already satisfied: xgboost in /usr/local/lib/python3.8/dist-packages (from lazypredict) (0.90)\n",
            "Requirement already satisfied: lightgbm in /usr/local/lib/python3.8/dist-packages (from lazypredict) (2.2.3)\n",
            "Requirement already satisfied: pandas in /usr/local/lib/python3.8/dist-packages (from lazypredict) (1.3.5)\n",
            "Requirement already satisfied: tqdm in /usr/local/lib/python3.8/dist-packages (from lazypredict) (4.64.1)\n",
            "Requirement already satisfied: joblib in /usr/local/lib/python3.8/dist-packages (from lazypredict) (1.2.0)\n",
            "Requirement already satisfied: scikit-learn in /usr/local/lib/python3.8/dist-packages (from lazypredict) (1.0.2)\n",
            "Requirement already satisfied: numpy in /usr/local/lib/python3.8/dist-packages (from lightgbm->lazypredict) (1.21.6)\n",
            "Requirement already satisfied: scipy in /usr/local/lib/python3.8/dist-packages (from lightgbm->lazypredict) (1.7.3)\n",
            "Requirement already satisfied: python-dateutil>=2.7.3 in /usr/local/lib/python3.8/dist-packages (from pandas->lazypredict) (2.8.2)\n",
            "Requirement already satisfied: pytz>=2017.3 in /usr/local/lib/python3.8/dist-packages (from pandas->lazypredict) (2022.6)\n",
            "Requirement already satisfied: six>=1.5 in /usr/local/lib/python3.8/dist-packages (from python-dateutil>=2.7.3->pandas->lazypredict) (1.15.0)\n",
            "Requirement already satisfied: threadpoolctl>=2.0.0 in /usr/local/lib/python3.8/dist-packages (from scikit-learn->lazypredict) (3.1.0)\n"
          ]
        }
      ],
      "source": [
        " \n",
        "pip install lazypredict"
      ]
    },
    {
      "cell_type": "markdown",
      "source": [
        "**Implementation of Lazypredict :**\n",
        "\n",
        "1.   classification\n",
        "2.   Regression\n",
        "\n"
      ],
      "metadata": {
        "id": "_zbYb-tuICl6"
      }
    },
    {
      "cell_type": "markdown",
      "source": [
        "**Classification**"
      ],
      "metadata": {
        "id": "vg5nCnsS8FN7"
      }
    },
    {
      "cell_type": "markdown",
      "source": [
        "**Note** : use  [Google colab](https://colab.research.google.com/)"
      ],
      "metadata": {
        "id": "5ZkWb3wFByZ3"
      }
    },
    {
      "cell_type": "code",
      "source": [
        "# importing LazyClassifier for classification problem\n",
        "# importing LazyClassifier for classification problem because here we are solving Classification use case.\n",
        "## importing breast Cancer Dataset from sklearn\n",
        "# spliting dataset into training and testing part\n",
        "from lazypredict.Supervised import LazyClassifier\n",
        "from sklearn.datasets import load_breast_cancer\n",
        "from sklearn.model_selection import train_test_split"
      ],
      "metadata": {
        "id": "dA9Z34m3RpR-"
      },
      "execution_count": 149,
      "outputs": []
    },
    {
      "cell_type": "code",
      "source": [
        "# The data set \n",
        "data= load_breast_cancer()"
      ],
      "metadata": {
        "id": "yWpHkwZuRmHA"
      },
      "execution_count": 150,
      "outputs": []
    },
    {
      "cell_type": "markdown",
      "source": [
        "--> separating dataset into dependent and independent features"
      ],
      "metadata": {
        "id": "0wp8Etf7GuQ_"
      }
    },
    {
      "cell_type": "code",
      "source": [
        "x=data.data"
      ],
      "metadata": {
        "id": "iGz3rW-GRHHq"
      },
      "execution_count": 151,
      "outputs": []
    },
    {
      "cell_type": "code",
      "source": [
        "y=data.target"
      ],
      "metadata": {
        "id": "jwFHUtMdTHri"
      },
      "execution_count": 152,
      "outputs": []
    },
    {
      "cell_type": "code",
      "source": [
        "### splitting dataset into training and testing part(20% training and 80% testing)\n",
        "x_train,x_test,y_train,y_test=train_test_split(x,y,test_size=.2,random_state=123)\n",
        "clf=LazyClassifier(verbose=0,ignore_warnings=True,custom_metric=None)"
      ],
      "metadata": {
        "id": "Cv4EqbHvTJ83"
      },
      "execution_count": 153,
      "outputs": []
    },
    {
      "cell_type": "code",
      "source": [
        "models,predictions=clf.fit(x_train,x_test,y_train,y_test)"
      ],
      "metadata": {
        "colab": {
          "base_uri": "https://localhost:8080/"
        },
        "id": "WW39uWVDT4rc",
        "outputId": "ec1915be-22d3-4265-cfe8-2c9b4f4c431b"
      },
      "execution_count": 154,
      "outputs": [
        {
          "output_type": "stream",
          "name": "stderr",
          "text": [
            "100%|██████████| 29/29 [00:01<00:00, 16.42it/s]\n"
          ]
        }
      ]
    },
    {
      "cell_type": "code",
      "source": [
        "print(models)"
      ],
      "metadata": {
        "colab": {
          "base_uri": "https://localhost:8080/"
        },
        "id": "8ht4LFtRV-dX",
        "outputId": "6f561a06-831a-4add-8c2f-d6977985260d"
      },
      "execution_count": 155,
      "outputs": [
        {
          "output_type": "stream",
          "name": "stdout",
          "text": [
            "                               Accuracy  Balanced Accuracy  ROC AUC  F1 Score  \\\n",
            "Model                                                                           \n",
            "LinearSVC                          0.99               0.99     0.99      0.99   \n",
            "LogisticRegression                 0.99               0.99     0.99      0.99   \n",
            "SGDClassifier                      0.99               0.99     0.99      0.99   \n",
            "RandomForestClassifier             0.99               0.99     0.99      0.99   \n",
            "QuadraticDiscriminantAnalysis      0.99               0.99     0.99      0.99   \n",
            "Perceptron                         0.99               0.99     0.99      0.99   \n",
            "ExtraTreesClassifier               0.99               0.99     0.99      0.99   \n",
            "XGBClassifier                      0.98               0.98     0.98      0.98   \n",
            "LGBMClassifier                     0.98               0.98     0.98      0.98   \n",
            "KNeighborsClassifier               0.98               0.98     0.98      0.98   \n",
            "PassiveAggressiveClassifier        0.98               0.98     0.98      0.98   \n",
            "SVC                                0.98               0.98     0.98      0.98   \n",
            "CalibratedClassifierCV             0.98               0.98     0.98      0.98   \n",
            "LabelSpreading                     0.97               0.97     0.97      0.97   \n",
            "BaggingClassifier                  0.97               0.97     0.97      0.97   \n",
            "LabelPropagation                   0.97               0.97     0.97      0.97   \n",
            "DecisionTreeClassifier             0.97               0.97     0.97      0.97   \n",
            "AdaBoostClassifier                 0.97               0.97     0.97      0.97   \n",
            "RidgeClassifier                    0.97               0.96     0.96      0.97   \n",
            "RidgeClassifierCV                  0.97               0.96     0.96      0.97   \n",
            "LinearDiscriminantAnalysis         0.97               0.96     0.96      0.97   \n",
            "BernoulliNB                        0.96               0.96     0.96      0.96   \n",
            "NuSVC                              0.96               0.94     0.94      0.96   \n",
            "NearestCentroid                    0.96               0.94     0.94      0.96   \n",
            "GaussianNB                         0.96               0.94     0.94      0.96   \n",
            "ExtraTreeClassifier                0.93               0.92     0.92      0.93   \n",
            "DummyClassifier                    0.64               0.50     0.50      0.50   \n",
            "\n",
            "                               Time Taken  \n",
            "Model                                      \n",
            "LinearSVC                            0.05  \n",
            "LogisticRegression                   0.06  \n",
            "SGDClassifier                        0.04  \n",
            "RandomForestClassifier               0.35  \n",
            "QuadraticDiscriminantAnalysis        0.02  \n",
            "Perceptron                           0.02  \n",
            "ExtraTreesClassifier                 0.14  \n",
            "XGBClassifier                        0.15  \n",
            "LGBMClassifier                       0.17  \n",
            "KNeighborsClassifier                 0.02  \n",
            "PassiveAggressiveClassifier          0.08  \n",
            "SVC                                  0.05  \n",
            "CalibratedClassifierCV               0.05  \n",
            "LabelSpreading                       0.04  \n",
            "BaggingClassifier                    0.09  \n",
            "LabelPropagation                     0.03  \n",
            "DecisionTreeClassifier               0.02  \n",
            "AdaBoostClassifier                   0.18  \n",
            "RidgeClassifier                      0.02  \n",
            "RidgeClassifierCV                    0.03  \n",
            "LinearDiscriminantAnalysis           0.03  \n",
            "BernoulliNB                          0.01  \n",
            "NuSVC                                0.04  \n",
            "NearestCentroid                      0.02  \n",
            "GaussianNB                           0.01  \n",
            "ExtraTreeClassifier                  0.01  \n",
            "DummyClassifier                      0.01  \n"
          ]
        }
      ]
    },
    {
      "cell_type": "markdown",
      "source": [
        "**Regression**"
      ],
      "metadata": {
        "id": "1sT5gbr18Vo6"
      }
    },
    {
      "cell_type": "code",
      "source": [
        "from lazypredict.Supervised import LazyRegressor\n",
        "from sklearn import datasets\n",
        "from sklearn.utils import shuffle\n",
        "import numpy as np"
      ],
      "metadata": {
        "id": "68MLyDL98c-b"
      },
      "execution_count": 156,
      "outputs": []
    },
    {
      "cell_type": "code",
      "source": [
        "#The dataset \n",
        "boston = datasets.load_boston()\n",
        "# loading and shuffling the dataset\n",
        "X, y = shuffle(boston.data, boston.target, random_state=13)\n",
        "X = X.astype(np.float32)\n",
        "offset = int(X.shape[0] * 0.9)"
      ],
      "metadata": {
        "id": "7p2alu3s80GK"
      },
      "execution_count": 157,
      "outputs": []
    },
    {
      "cell_type": "code",
      "source": [
        "# splitting dataset into training and testing part.\n",
        "X_train, y_train = X[:offset], y[:offset]\n",
        "X_test, y_test = X[offset:], y[offset:]\n",
        "# fitting data in LazyRegressor because here we are solving Regression use case.\n",
        "reg = LazyRegressor(verbose=0,ignore_warnings=False, custom_metric=None )\n",
        "models,predictions = reg.fit(X_train, X_test, y_train, y_test)"
      ],
      "metadata": {
        "colab": {
          "base_uri": "https://localhost:8080/"
        },
        "id": "vKHD0iq18-xc",
        "outputId": "70c35601-d29e-4e84-b726-0d2d702aaffc"
      },
      "execution_count": 158,
      "outputs": [
        {
          "output_type": "stream",
          "name": "stderr",
          "text": [
            " 17%|█▋        | 7/42 [00:00<00:01, 30.53it/s]"
          ]
        },
        {
          "output_type": "stream",
          "name": "stdout",
          "text": [
            "ElasticNetCV model failed to execute\n",
            "Gram matrix passed in via 'precompute' parameter did not pass validation when a single element was checked - please check that it was computed properly. For element (6,7) we computed -297.88409423828125 but the user-supplied value was -297.8840026855469.\n"
          ]
        },
        {
          "output_type": "stream",
          "name": "stderr",
          "text": [
            " 48%|████▊     | 20/42 [00:01<00:01, 13.77it/s]"
          ]
        },
        {
          "output_type": "stream",
          "name": "stdout",
          "text": [
            "LassoCV model failed to execute\n",
            "Gram matrix passed in via 'precompute' parameter did not pass validation when a single element was checked - please check that it was computed properly. For element (6,7) we computed -297.88409423828125 but the user-supplied value was -297.8840026855469.\n"
          ]
        },
        {
          "output_type": "stream",
          "name": "stderr",
          "text": [
            "100%|██████████| 42/42 [00:07<00:00,  5.93it/s]"
          ]
        },
        {
          "output_type": "stream",
          "name": "stdout",
          "text": [
            "[09:15:53] WARNING: /workspace/src/objective/regression_obj.cu:152: reg:linear is now deprecated in favor of reg:squarederror.\n"
          ]
        },
        {
          "output_type": "stream",
          "name": "stderr",
          "text": [
            "\n"
          ]
        }
      ]
    },
    {
      "cell_type": "code",
      "source": [
        "print(models)"
      ],
      "metadata": {
        "colab": {
          "base_uri": "https://localhost:8080/"
        },
        "id": "JOwTbP5q9L3p",
        "outputId": "5e5c2e1d-96fe-4fec-c6db-1035c3aff055"
      },
      "execution_count": 159,
      "outputs": [
        {
          "output_type": "stream",
          "name": "stdout",
          "text": [
            "                               Adjusted R-Squared  R-Squared  RMSE  Time Taken\n",
            "Model                                                                         \n",
            "SVR                                          0.83       0.88  2.62        0.02\n",
            "BaggingRegressor                             0.83       0.88  2.63        0.05\n",
            "XGBRegressor                                 0.83       0.87  2.67        0.06\n",
            "NuSVR                                        0.82       0.86  2.76        0.03\n",
            "RandomForestRegressor                        0.81       0.86  2.78        0.36\n",
            "GradientBoostingRegressor                    0.81       0.86  2.84        0.22\n",
            "ExtraTreesRegressor                          0.79       0.84  2.98        0.22\n",
            "AdaBoostRegressor                            0.78       0.83  3.04        0.12\n",
            "HistGradientBoostingRegressor                0.77       0.83  3.06        0.51\n",
            "PoissonRegressor                             0.77       0.83  3.11        0.02\n",
            "LGBMRegressor                                0.77       0.83  3.11        0.07\n",
            "KNeighborsRegressor                          0.77       0.83  3.12        0.01\n",
            "DecisionTreeRegressor                        0.65       0.74  3.79        0.01\n",
            "MLPRegressor                                 0.65       0.74  3.80        0.68\n",
            "HuberRegressor                               0.64       0.74  3.84        0.02\n",
            "GammaRegressor                               0.64       0.73  3.88        0.01\n",
            "LinearSVR                                    0.62       0.72  3.96        0.01\n",
            "RidgeCV                                      0.62       0.72  3.97        0.01\n",
            "BayesianRidge                                0.62       0.72  3.97        0.01\n",
            "Ridge                                        0.62       0.72  3.97        0.02\n",
            "LinearRegression                             0.62       0.72  3.97        0.01\n",
            "TransformedTargetRegressor                   0.62       0.72  3.97        0.01\n",
            "LassoLarsIC                                  0.62       0.72  3.98        0.01\n",
            "LassoLarsCV                                  0.62       0.72  3.98        0.03\n",
            "Lars                                         0.61       0.72  3.99        0.04\n",
            "LarsCV                                       0.61       0.71  4.02        0.07\n",
            "SGDRegressor                                 0.60       0.70  4.07        0.01\n",
            "TweedieRegressor                             0.59       0.70  4.12        0.01\n",
            "ElasticNet                                   0.58       0.69  4.16        0.01\n",
            "Lasso                                        0.54       0.66  4.35        0.01\n",
            "RANSACRegressor                              0.53       0.65  4.41        0.10\n",
            "OrthogonalMatchingPursuitCV                  0.45       0.59  4.78        0.02\n",
            "PassiveAggressiveRegressor                   0.37       0.54  5.09        0.01\n",
            "GaussianProcessRegressor                     0.23       0.43  5.65        0.05\n",
            "OrthogonalMatchingPursuit                    0.16       0.38  5.89        0.01\n",
            "ExtraTreeRegressor                           0.08       0.32  6.17        0.01\n",
            "QuantileRegressor                           -0.35      -0.00  7.49        4.01\n",
            "DummyRegressor                              -0.38      -0.02  7.56        0.01\n",
            "LassoLars                                   -0.38      -0.02  7.56        0.01\n",
            "KernelRidge                                -11.50      -8.25 22.74        0.03\n"
          ]
        }
      ]
    },
    {
      "cell_type": "markdown",
      "source": [
        "**NOTE**"
      ],
      "metadata": {
        "id": "vXYciE4RZ811"
      }
    },
    {
      "cell_type": "markdown",
      "source": [
        "During a machine learing project , we often look to get the best possible  results by trying  the multiple algorithms .\n",
        "This is extremly time consuming . \n",
        "Indeed , for each algorithm , we may have to load  new d libraries , declare a new object, re-train the model and store the results .\n",
        "The python library called **Lazypredict**  allows us to test a set of the most used algorithms in data science in one go !!!!\n"
      ],
      "metadata": {
        "id": "Pztyarq2Y35e"
      }
    },
    {
      "cell_type": "markdown",
      "source": [
        "It is really  useful , especially to have a first overview  and to know  which machine learning  solution to turn to for Further analysis .\n",
        "\n",
        "\n",
        "--- source: [lazypredict](https://lazypredict.readthedocs.io/en/latest/)\n",
        "\n"
      ],
      "metadata": {
        "id": "4B5Jyv6qaCsr"
      }
    },
    {
      "cell_type": "markdown",
      "source": [
        "Krishna Dev Adhikari Danuwar \\\n",
        "Khwopa Engineering College \\\n",
        "Bhaktapur , Nepal\\\n",
        "gmail:[74Krishnadev@gmail.com]\\\n",
        "LinkedIn:[Krishna Dev Adhikari Danuwar](https://www.linkedin.com/in/krishnadev-adhikari-danuwar/)\n",
        "\n"
      ],
      "metadata": {
        "id": "CjL3538sa3F0"
      }
    },
    {
      "cell_type": "code",
      "source": [],
      "metadata": {
        "id": "fn6_sPzLZ4dq"
      },
      "execution_count": 159,
      "outputs": []
    }
  ]
}